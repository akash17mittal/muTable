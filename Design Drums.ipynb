{
 "cells": [
  {
   "cell_type": "code",
   "execution_count": 1,
   "id": "offshore-tomato",
   "metadata": {},
   "outputs": [],
   "source": [
    "import cv2\n",
    "import numpy as np\n",
    "import matplotlib.pyplot as plt"
   ]
  },
  {
   "cell_type": "code",
   "execution_count": 2,
   "id": "alleged-weekend",
   "metadata": {},
   "outputs": [],
   "source": [
    "height = 1080\n",
    "width = 1080"
   ]
  },
  {
   "cell_type": "code",
   "execution_count": 3,
   "id": "vocational-piece",
   "metadata": {},
   "outputs": [],
   "source": [
    "image_size = (height,width,3)\n",
    "\n",
    "piece_widths = [0.3, 0.23, 0.43]\n",
    "angle = np.pi/6\n",
    "piece2_d = 0.03 + piece_widths[1]/2 + piece_widths[2]/2 \n",
    "piece1_x = 0.025 + piece_widths[0]/2\n",
    "piece3_x = 1-0.025-piece_widths[2]/2\n",
    "piece2_x = piece3_x - np.cos(angle)*piece2_d\n",
    "\n",
    "piece1_y = 0.45\n",
    "piece3_y = 0.45\n",
    "piece2_y = piece3_y + np.sin(angle)*piece2_d\n",
    "piece_x_coords = [piece1_x, piece2_x, piece3_x]\n",
    "piece_y_coords = [piece1_y, piece2_y, piece3_y]\n",
    "\n",
    "yellow_color = (255, 204, 153)\n",
    "dark_yellow_color = (255, 153, 51)\n",
    "\n",
    "drums = np.zeros(shape=image_size, dtype=np.uint8)\n",
    "for i in [0,1,2]:\n",
    "    drums = cv2.circle(drums, (int(piece_x_coords[i]*width),int(piece_y_coords[i]*height)), int(width*piece_widths[i]/2), yellow_color, -1)\n",
    "    drums = cv2.circle(drums, (int(piece_x_coords[i]*width),int(piece_y_coords[i]*height)), int(width*piece_widths[i]/5), (0,0,0), -1)\n",
    "    drums = cv2.circle(drums, (int(piece_x_coords[i]*width),int(piece_y_coords[i]*height)), int(width*piece_widths[i]/2), dark_yellow_color, int(0.025*width))\n",
    "    \n",
    "plt.imshow(drums)"
   ]
  },
  {
   "cell_type": "code",
   "execution_count": 40,
   "id": "amateur-ballet",
   "metadata": {},
   "outputs": [
    {
     "data": {
      "text/plain": [
       "array([[[0, 0, 0],\n",
       "        [0, 0, 0],\n",
       "        [0, 0, 0],\n",
       "        ...,\n",
       "        [0, 0, 0],\n",
       "        [0, 0, 0],\n",
       "        [0, 0, 0]],\n",
       "\n",
       "       [[0, 0, 0],\n",
       "        [0, 0, 0],\n",
       "        [0, 0, 0],\n",
       "        ...,\n",
       "        [0, 0, 0],\n",
       "        [0, 0, 0],\n",
       "        [0, 0, 0]],\n",
       "\n",
       "       [[0, 0, 0],\n",
       "        [0, 0, 0],\n",
       "        [0, 0, 0],\n",
       "        ...,\n",
       "        [0, 0, 0],\n",
       "        [0, 0, 0],\n",
       "        [0, 0, 0]],\n",
       "\n",
       "       ...,\n",
       "\n",
       "       [[0, 0, 0],\n",
       "        [0, 0, 0],\n",
       "        [0, 0, 0],\n",
       "        ...,\n",
       "        [0, 0, 0],\n",
       "        [0, 0, 0],\n",
       "        [0, 0, 0]],\n",
       "\n",
       "       [[0, 0, 0],\n",
       "        [0, 0, 0],\n",
       "        [0, 0, 0],\n",
       "        ...,\n",
       "        [0, 0, 0],\n",
       "        [0, 0, 0],\n",
       "        [0, 0, 0]],\n",
       "\n",
       "       [[0, 0, 0],\n",
       "        [0, 0, 0],\n",
       "        [0, 0, 0],\n",
       "        ...,\n",
       "        [0, 0, 0],\n",
       "        [0, 0, 0],\n",
       "        [0, 0, 0]]], dtype=uint8)"
      ]
     },
     "execution_count": 40,
     "metadata": {},
     "output_type": "execute_result"
    }
   ],
   "source": [
    "drums"
   ]
  },
  {
   "cell_type": "code",
   "execution_count": null,
   "id": "failing-philip",
   "metadata": {},
   "outputs": [],
   "source": []
  },
  {
   "cell_type": "code",
   "execution_count": null,
   "id": "olympic-architect",
   "metadata": {},
   "outputs": [],
   "source": []
  }
 ],
 "metadata": {
  "kernelspec": {
   "display_name": "muTableEnv",
   "language": "python",
   "name": "mutableenv"
  },
  "language_info": {
   "codemirror_mode": {
    "name": "ipython",
    "version": 3
   },
   "file_extension": ".py",
   "mimetype": "text/x-python",
   "name": "python",
   "nbconvert_exporter": "python",
   "pygments_lexer": "ipython3",
   "version": "3.8.10"
  }
 },
 "nbformat": 4,
 "nbformat_minor": 5
}
