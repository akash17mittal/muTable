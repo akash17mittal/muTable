{
 "cells": [
  {
   "cell_type": "code",
   "execution_count": 1,
   "id": "polyphonic-server",
   "metadata": {},
   "outputs": [],
   "source": [
    "import pyrealsense2 as rs\n",
    "import numpy as np\n",
    "import cv2\n",
    "import matplotlib.pyplot as plt\n",
    "import seaborn as sns\n",
    "import mediapipe as mp"
   ]
  },
  {
   "cell_type": "code",
   "execution_count": 2,
   "id": "diagnostic-syndication",
   "metadata": {},
   "outputs": [],
   "source": [
    "mp_drawing = mp.solutions.drawing_utils\n",
    "mp_drawing_styles = mp.solutions.drawing_styles\n",
    "mp_hands = mp.solutions.hands\n",
    "hands = mp_hands.Hands(model_complexity=0, min_detection_confidence=0.5, min_tracking_confidence=0.5)"
   ]
  },
  {
   "cell_type": "code",
   "execution_count": null,
   "id": "published-workstation",
   "metadata": {},
   "outputs": [],
   "source": [
    "# Configure depth and color streams\n",
    "pipeline = rs.pipeline()\n",
    "config = rs.config()\n",
    "\n",
    "# Get device product line for setting a supporting resolution\n",
    "pipeline_wrapper = rs.pipeline_wrapper(pipeline)\n",
    "pipeline_profile = config.resolve(pipeline_wrapper)\n",
    "device = pipeline_profile.get_device()\n",
    "device_product_line = str(device.get_info(rs.camera_info.product_line))\n",
    "\n",
    "found_rgb = False\n",
    "for s in device.sensors:\n",
    "    if s.get_info(rs.camera_info.name) == 'RGB Camera':\n",
    "        found_rgb = True\n",
    "        break\n",
    "if not found_rgb:\n",
    "    print(\"The demo requires Depth camera with Color sensor\")\n",
    "    exit(0)\n",
    "\n",
    "config.enable_stream(rs.stream.depth, 640, 480, rs.format.z16, 30)\n",
    "\n",
    "if device_product_line == 'L500':\n",
    "    config.enable_stream(rs.stream.color, 960, 540, rs.format.bgr8, 30)\n",
    "else:\n",
    "    config.enable_stream(rs.stream.color, 640, 480, rs.format.bgr8, 30)\n",
    "    \n",
    "# Start streaming\n",
    "profile = pipeline.start(config)\n",
    "\n",
    "# Getting the depth sensor's depth scale (see rs-align example for explanation)\n",
    "depth_sensor = profile.get_device().first_depth_sensor()\n",
    "depth_scale = depth_sensor.get_depth_scale()\n",
    "print(\"Depth Scale is: \" , depth_scale)\n",
    "\n",
    "# Create an align object\n",
    "# rs.align allows us to perform alignment of depth frames to others frames\n",
    "# The \"align_to\" is the stream type to which we plan to align depth frames.\n",
    "align_to = rs.stream.color\n",
    "align = rs.align(align_to)\n",
    "\n",
    "try:\n",
    "    count = 0\n",
    "    while True:\n",
    "        count += 1\n",
    "\n",
    "        # Wait for a coherent pair of frames: depth and color\n",
    "        frames = pipeline.wait_for_frames()\n",
    "        \n",
    "        \n",
    "        # Align the depth frame to color frame\n",
    "        aligned_frames = align.process(frames)\n",
    "\n",
    "        # Get aligned frames\n",
    "        depth_frame = aligned_frames.get_depth_frame() # aligned_depth_frame is a 640x480 depth image\n",
    "        color_frame = aligned_frames.get_color_frame()      \n",
    "        \n",
    "        if not depth_frame or not color_frame:\n",
    "            continue\n",
    "\n",
    "        # Convert images to numpy arrays\n",
    "        depth_image = np.asanyarray(depth_frame.get_data())\n",
    "#         print(\"Depth Image Shape = \", depth_image.shape)\n",
    "        dmap = depth_image.reshape(-1)\n",
    "        unique, counts = np.unique(dmap[dmap > 100], return_counts=True)\n",
    "        projection_depth = unique[np.argmax(counts)]*depth_scale\n",
    "        if count%30==0:\n",
    "            print(\"Projection Depth = \", projection_depth)\n",
    "            with open(f'depth_maps/depth_map_p_{count}.npy', 'wb') as f:\n",
    "                np.save(f, depth_image)\n",
    "        color_image = np.asanyarray(color_frame.get_data())\n",
    "        color_image.flags.writeable = False\n",
    "        color_image = cv2.cvtColor(color_image, cv2.COLOR_BGR2RGB)        \n",
    "        results = hands.process(color_image)\n",
    "        color_image.flags.writeable = True\n",
    "        color_image = cv2.cvtColor(color_image, cv2.COLOR_RGB2BGR)\n",
    "#         print(\"Color Image Shape = \", color_image.shape)\n",
    "        \n",
    "        if results.multi_handedness:\n",
    "            handedness = [handedness.classification[0].label for handedness in results.multi_handedness]\n",
    "#         print(handedness)\n",
    "        if results.multi_hand_landmarks:\n",
    "            for hand_landmarks in results.multi_hand_landmarks:\n",
    "                min_hand_x = 640\n",
    "                max_hand_x = 0\n",
    "                min_hand_y = 480\n",
    "                max_hand_y = 0\n",
    "                sum_depth_of_landmarks = 0\n",
    "                count_landmarks = 0\n",
    "                for landmark in hand_landmarks.landmark:\n",
    "                    x = min(int(landmark.x*640), 639)\n",
    "                    y = min(int(landmark.y*480), 479)\n",
    "                    min_hand_x = min(x, min_hand_x)\n",
    "                    max_hand_x = max(x, max_hand_x)\n",
    "                    min_hand_y = min(y, min_hand_y)\n",
    "                    max_hand_y = max(y, max_hand_y)\n",
    "                    if depth_image[y,x] > 0:\n",
    "                        sum_depth_of_landmarks += depth_image[y,x]\n",
    "                        count_landmarks += 1\n",
    "                if count_landmarks > 0 and count%30==0:\n",
    "                    print(\"Average Handdepth = \", sum_depth_of_landmarks*depth_scale/count_landmarks)\n",
    "                color_image = cv2.rectangle(color_image, (min_hand_x, min_hand_y), (max_hand_x, max_hand_y), (255, 0, 0), 2)\n",
    "                depth_image[min_hand_y:max_hand_y, min_hand_x:max_hand_x] = 0\n",
    "#                 color_image = cv2.circle(color_image, (hand_x, hand_y), 10, (255, 0, 0), 2)\n",
    "#                 mp_drawing.draw_landmarks(color_image,\n",
    "#                                           hand_landmarks,\n",
    "#                                           mp_hands.HAND_CONNECTIONS,\n",
    "#                                           mp_drawing_styles.get_default_hand_landmarks_style(),\n",
    "#                                           mp_drawing_styles.get_default_hand_connections_style())\n",
    "        # Apply colormap on depth image (image must be converted to 8-bit per pixel first)\n",
    "        depth_colormap = cv2.applyColorMap(cv2.convertScaleAbs(depth_image, alpha=0.03), cv2.COLORMAP_JET)\n",
    "\n",
    "        depth_colormap_dim = depth_colormap.shape\n",
    "        color_colormap_dim = color_image.shape\n",
    "\n",
    "        # If depth and color resolutions are different, resize color image to match depth image for display\n",
    "        if depth_colormap_dim != color_colormap_dim:\n",
    "            resized_color_image = cv2.resize(color_image, dsize=(depth_colormap_dim[1], depth_colormap_dim[0]), interpolation=cv2.INTER_AREA)\n",
    "            images = np.hstack((resized_color_image, depth_colormap))\n",
    "        else:\n",
    "            images = np.hstack((color_image, depth_colormap))\n",
    "\n",
    "        # Show images\n",
    "        cv2.namedWindow('RealSense', cv2.WINDOW_AUTOSIZE)\n",
    "        cv2.imshow('RealSense', images)\n",
    "        cv2.waitKey(1)\n",
    "\n",
    "finally:\n",
    "\n",
    "    # Stop streaming\n",
    "    pipeline.stop()"
   ]
  },
  {
   "cell_type": "code",
   "execution_count": null,
   "id": "revised-amber",
   "metadata": {},
   "outputs": [],
   "source": [
    "dmap = np.load(\"depth_maps/depth_map_20.npy\").reshape(-1)"
   ]
  },
  {
   "cell_type": "code",
   "execution_count": 22,
   "id": "forbidden-upset",
   "metadata": {},
   "outputs": [
    {
     "data": {
      "text/plain": [
       "array([0, 0, 0, ..., 0, 0, 0], dtype=uint16)"
      ]
     },
     "execution_count": 22,
     "metadata": {},
     "output_type": "execute_result"
    }
   ],
   "source": [
    "dmap"
   ]
  },
  {
   "cell_type": "code",
   "execution_count": 30,
   "id": "strange-creativity",
   "metadata": {},
   "outputs": [],
   "source": []
  },
  {
   "cell_type": "code",
   "execution_count": 40,
   "id": "fixed-internship",
   "metadata": {},
   "outputs": [
    {
     "data": {
      "text/plain": [
       "17932"
      ]
     },
     "execution_count": 40,
     "metadata": {},
     "output_type": "execute_result"
    }
   ],
   "source": [
    "counts[np.argmax(counts)]"
   ]
  },
  {
   "cell_type": "code",
   "execution_count": 25,
   "id": "korean-vintage",
   "metadata": {},
   "outputs": [
    {
     "data": {
      "text/plain": [
       "<seaborn.axisgrid.FacetGrid at 0x7f7dab26cac0>"
      ]
     },
     "execution_count": 25,
     "metadata": {},
     "output_type": "execute_result"
    },
    {
     "data": {
      "image/png": "[encoded data removed]",
      "text/plain": [
       "<Figure size 500x500 with 1 Axes>"
      ]
     },
     "metadata": {},
     "output_type": "display_data"
    }
   ],
   "source": [
    "sns.displot(dmap)"
   ]
  }
 ],
 "metadata": {
  "kernelspec": {
   "display_name": "muTableEnv",
   "language": "python",
   "name": "mutableenv"
  },
  "language_info": {
   "codemirror_mode": {
    "name": "ipython",
    "version": 3
   },
   "file_extension": ".py",
   "mimetype": "text/x-python",
   "name": "python",
   "nbconvert_exporter": "python",
   "pygments_lexer": "ipython3",
   "version": "3.8.10"
  }
 },
 "nbformat": 4,
 "nbformat_minor": 5
}
